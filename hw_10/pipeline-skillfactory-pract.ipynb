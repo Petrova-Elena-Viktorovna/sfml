{
 "cells": [
  {
   "cell_type": "markdown",
   "metadata": {
    "toc": "true"
   },
   "source": [
    "# Table of Contents\n",
    " <p><div class=\"lev1 toc-item\"><a href=\"#Skillfactory---Практический-Machine-Learning\" data-toc-modified-id=\"Skillfactory---Практический-Machine-Learning-1\"><span class=\"toc-item-num\">1&nbsp;&nbsp;</span>Skillfactory - Практический Machine Learning</a></div><div class=\"lev2 toc-item\"><a href=\"#19/02/2018---Аномалии,-работа-с-признаками,-пайплайны-(практика)\" data-toc-modified-id=\"19/02/2018---Аномалии,-работа-с-признаками,-пайплайны-(практика)-11\"><span class=\"toc-item-num\">1.1&nbsp;&nbsp;</span>19/02/2018 - Аномалии, работа с признаками, пайплайны (практика)</a></div><div class=\"lev2 toc-item\"><a href=\"#Hyperparameter-Search\" data-toc-modified-id=\"Hyperparameter-Search-12\"><span class=\"toc-item-num\">1.2&nbsp;&nbsp;</span>Hyperparameter Search</a></div><div class=\"lev2 toc-item\"><a href=\"#Небольшая-предобработка\" data-toc-modified-id=\"Небольшая-предобработка-13\"><span class=\"toc-item-num\">1.3&nbsp;&nbsp;</span>Небольшая предобработка</a></div><div class=\"lev1 toc-item\"><a href=\"#Pipeline\" data-toc-modified-id=\"Pipeline-2\"><span class=\"toc-item-num\">2&nbsp;&nbsp;</span>Pipeline</a></div><div class=\"lev3 toc-item\"><a href=\"#Подбор-гиперпараметров\" data-toc-modified-id=\"Подбор-гиперпараметров-201\"><span class=\"toc-item-num\">2.0.1&nbsp;&nbsp;</span>Подбор гиперпараметров</a></div><div class=\"lev1 toc-item\"><a href=\"#HyperOpt\" data-toc-modified-id=\"HyperOpt-3\"><span class=\"toc-item-num\">3&nbsp;&nbsp;</span>HyperOpt</a></div>"
   ]
  },
  {
   "cell_type": "markdown",
   "metadata": {},
   "source": [
    "# Skillfactory - Практический Machine Learning\n",
    "## 19/02/2018 - Аномалии, работа с признаками, пайплайны (практика)\n",
    "\n",
    "<center> Шестаков Андрей </center>"
   ]
  },
  {
   "cell_type": "code",
   "execution_count": 1,
   "metadata": {},
   "outputs": [],
   "source": [
    "import pandas as pd\n",
    "import numpy as np\n",
    "import matplotlib.pyplot as plt\n",
    "\n",
    "\n",
    "%matplotlib inline\n",
    "\n",
    "plt.style.use('ggplot')\n",
    "plt.rcParams['figure.figsize'] = (12, 8)"
   ]
  },
  {
   "cell_type": "code",
   "execution_count": 2,
   "metadata": {},
   "outputs": [],
   "source": [
    "def load_otp():\n",
    "    #Читаем файл с описанием колонок. В файле две колонки, им сразу даём наименование для датафрейма\n",
    "    features = pd.read_csv('data/descr.txt', sep='\\t', encoding='cp1251', names=['feature', 'descr'])\n",
    "    #Выкидываем три верхние строки, начиная датафрейм с 4-й, потому что вверху это ненужные нам данные\n",
    "    #и заголовок\n",
    "    features = features.iloc[3:]\n",
    "    #Первая колонка датафрейма - английские названия колонок, оставляем её для массива имен. Вызов values возвращает narray\n",
    "    feature_names = features.iloc[:, 0].values\n",
    "    \n",
    "    #Читаем датаферйм данных\n",
    "    df_data_x = pd.read_csv('data/data_x.csv', sep=';', header=None, names=feature_names)\n",
    "    #!!Уточнить Присваиваем пропущенным значениям колонки предыдущей утилизированной карты 0 значение\n",
    "    df_data_x.loc[:, 'PREVIOUS_CARD_NUM_UTILIZED'] = df_data_x.PREVIOUS_CARD_NUM_UTILIZED.fillna(0)\n",
    "    #Создаём новый столбец uniq_vals и заносим в него количество уникальных значений, встретившихся в колонке\n",
    "    #Столбец заносим в датасет, где хранятся заголовки таблицы\n",
    "    features.loc[:, 'uniq_vals'] = df_data_x.apply(lambda c: c.nunique(), axis=0).values\n",
    "    \n",
    "    #Пересчитываем индекс\n",
    "    features = features.reset_index(drop=True)\n",
    "    \n",
    "    #Читаем y, сразу присваиваем имя active\n",
    "    df_data_y = pd.read_csv('data/data_y.csv', sep=';', names=['active'])\n",
    "    \n",
    "    #отбираем в массив те индексы, в которых колонки имеют тип объект. 0 параметр означает, \n",
    "    #что из кортежа возвращаем именно массив, потому что вторым значением кортежа является тип\n",
    "    idx = np.where(df_data_x.dtypes == 'object')[0]\n",
    "\n",
    "    #Проходимся по всем значениям объектного типа и после замены значений запятой на точку преобразовываем столбцы в числовой формат\n",
    "    for i in idx:\n",
    "        df_data_x.iloc[:, i] = df_data_x.iloc[:, i].str.replace(',', '.').astype('float')\n",
    "        \n",
    "    #объединяем данные и тарджет (y) в один датасет\n",
    "    df_data = df_data_x.join(df_data_y)\n",
    "    \n",
    "    return df_data, features"
   ]
  },
  {
   "cell_type": "markdown",
   "metadata": {},
   "source": [
    "## Hyperparameter Search"
   ]
  },
  {
   "cell_type": "markdown",
   "metadata": {},
   "source": [
    "Давайте для задачи по ОТП сделаем end-to-end pipeline"
   ]
  },
  {
   "cell_type": "markdown",
   "metadata": {},
   "source": [
    "<img src='img/pipeline.png'>"
   ]
  },
  {
   "cell_type": "code",
   "execution_count": 3,
   "metadata": {},
   "outputs": [],
   "source": [
    "df, features = load_otp()"
   ]
  },
  {
   "cell_type": "code",
   "execution_count": 4,
   "metadata": {},
   "outputs": [],
   "source": [
    "from sklearn.pipeline import Pipeline, FeatureUnion\n",
    "from sklearn.model_selection import GridSearchCV, RandomizedSearchCV\n",
    "from sklearn.model_selection import StratifiedKFold, train_test_split\n",
    "from sklearn.preprocessing import OneHotEncoder, StandardScaler\n",
    "from sklearn.base import BaseEstimator, TransformerMixin\n",
    "\n",
    "from sklearn.linear_model import LogisticRegression\n",
    "from sklearn.metrics import roc_curve, auc\n",
    "\n",
    "\n",
    "def plot_roc_curve(predictions, yval):\n",
    "    try:\n",
    "        #на входе может быть матрица, тогда нам надо брать вторую колонку\n",
    "        preds = predictions[:,1]\n",
    "    except:\n",
    "        #в противном случае преобразовываем в массив np.array\n",
    "        preds = np.array(predictions)\n",
    "    #считаем показатели полноты и прочего по заданным параметрам\n",
    "    fpr, tpr, threshold = roc_curve(yval, preds)\n",
    "    roc_auc = auc(fpr, tpr)\n",
    "    #строим график\n",
    "    with plt.rc_context({'xtick.color':'white', 'ytick.color':'white',\n",
    "                     'axes.labelcolor':'white'}):\n",
    "        plt.title('Receiver Operating Characteristic')\n",
    "        plt.plot(fpr, tpr, 'b', label = 'AUC = %0.2f' % roc_auc)\n",
    "        plt.legend(loc = 'lower right')\n",
    "        plt.plot([0, 1], [0, 1],'r--')\n",
    "        plt.xlim([0, 1])\n",
    "        plt.ylim([0, 1])\n",
    "        plt.ylabel('True Positive Rate')\n",
    "        plt.xlabel('False Positive Rate')\n",
    "        plt.show()"
   ]
  },
  {
   "cell_type": "code",
   "execution_count": 5,
   "metadata": {},
   "outputs": [],
   "source": [
    "#Рандом сид будем использовать в дальнейших вычислениях\n",
    "RND_SEED = 123"
   ]
  },
  {
   "cell_type": "code",
   "execution_count": 6,
   "metadata": {},
   "outputs": [],
   "source": [
    "#Непонятный класс, нигде не используется\n",
    "class ColumnSelector(BaseEstimator, TransformerMixin):\n",
    "    def __init__(self, col_idx):\n",
    "        self.col_idx = col_idx\n",
    "    \n",
    "    def fit(self, X, y=None):\n",
    "        return self\n",
    "\n",
    "    def transform(self, X):\n",
    "        return X[:, self.col_idx]"
   ]
  },
  {
   "cell_type": "code",
   "execution_count": 7,
   "metadata": {},
   "outputs": [],
   "source": [
    "#список категориальных колонок, забиты вручную\n",
    "cat_features = [6, 7, 8, 9, 10, 12, 13, 15, 16, 17, 18, 19, 33]\n",
    "#бинарные признаки, если уникальных значений в колонке только 2, то эта колонка с бинарным признаком. \n",
    "#Вытаскиваем индексы этих признаков\n",
    "binary_features = features[features.uniq_vals == 2].index.values\n",
    "#непрерывные признаки это разница между двумя пространствами непрерывном от 0 до 50 и заранее определённом \n",
    "#списке категориальных признаков\n",
    "cont_features = np.setdiff1d(np.arange(50), cat_features)\n",
    "#уточнение непрерывных признаков, убираем из предыдущего списка список бинарных признаков\n",
    "cont_features = np.setdiff1d(cont_features, binary_features)"
   ]
  },
  {
   "cell_type": "markdown",
   "metadata": {},
   "source": [
    "### Подбор гиперпараметров"
   ]
  },
  {
   "cell_type": "markdown",
   "metadata": {},
   "source": [
    "<img src='img/gridsearch.jpeg'>"
   ]
  },
  {
   "cell_type": "code",
   "execution_count": 8,
   "metadata": {},
   "outputs": [],
   "source": [
    "from scipy.stats import randint as sp_randint\n",
    "#Берём все колонки, кроме последней, где y, и заполняем пропуски нулём\n",
    "X = df.iloc[:, :-1].fillna(0)\n",
    "#Выделяем столбец y из последней колонки\n",
    "y = df.iloc[:, -1].values"
   ]
  },
  {
   "cell_type": "code",
   "execution_count": 9,
   "metadata": {},
   "outputs": [
    {
     "data": {
      "text/plain": [
       "((10656, 50), (4567, 50))"
      ]
     },
     "execution_count": 9,
     "metadata": {},
     "output_type": "execute_result"
    }
   ],
   "source": [
    "#Разделяем данные на тренировочные и тестовые\n",
    "X_train, X_test, y_train, y_test = train_test_split(X, y, test_size = 0.3)\n",
    "X_train.shape, X_test.shape"
   ]
  },
  {
   "cell_type": "code",
   "execution_count": 10,
   "metadata": {},
   "outputs": [
    {
     "name": "stdout",
     "output_type": "stream",
     "text": [
      "{'C': 1e-05, 'class_weight': 'balanced', 'penalty': 'l2'}\n"
     ]
    },
    {
     "data": {
      "text/plain": [
       "LogisticRegression(C=1e-05, class_weight='balanced', dual=False,\n",
       "          fit_intercept=True, intercept_scaling=1, max_iter=100,\n",
       "          multi_class='ovr', n_jobs=1, penalty='l2', random_state=None,\n",
       "          solver='liblinear', tol=0.0001, verbose=0, warm_start=False)"
      ]
     },
     "execution_count": 10,
     "metadata": {},
     "output_type": "execute_result"
    }
   ],
   "source": [
    "model = LogisticRegression()\n",
    "param_grid = { \"penalty\"      : ['l1', 'l2'], #регуляризация и по L1  и по L2\n",
    "               \"C\"      : np.linspace(0.00001, 100, 1), #Набор заранее заданных гиперпараметров. Почему то отсутствует 0.001 и 0.1\n",
    "               \"class_weight\"         : [None, 'balanced'] # баланисировка класса или нет\n",
    "}\n",
    "#При гридсеарче разбиваем тестовую выборку на 5 частей, проверяем точность модели по рок аук\n",
    "grid_search = GridSearchCV(model, param_grid, cv=5, scoring='roc_auc')\n",
    "grid_search.fit(X_train, y_train)\n",
    "print(grid_search.best_params_)\n",
    "\n",
    "#Используем свойство питона разворачивать содержимое контейнера в список параметров, ожидаемых функцией\n",
    "model = LogisticRegression(**grid_search.best_params_)\n",
    "model.fit(X_train, y_train)"
   ]
  },
  {
   "cell_type": "code",
   "execution_count": 11,
   "metadata": {},
   "outputs": [
    {
     "data": {
      "image/png": "[encoded data removed]",
      "text/plain": [
       "<Figure size 432x288 with 1 Axes>"
      ]
     },
     "metadata": {},
     "output_type": "display_data"
    }
   ],
   "source": [
    "plot_roc_curve(model.predict_proba(X_test), y_test)"
   ]
  },
  {
   "cell_type": "markdown",
   "metadata": {},
   "source": [
    "# HyperOpt"
   ]
  },
  {
   "cell_type": "code",
   "execution_count": 12,
   "metadata": {},
   "outputs": [],
   "source": [
    "from hyperopt import fmin, tpe, hp, Trials, STATUS_OK, rand\n",
    "from sklearn.model_selection import cross_val_score"
   ]
  },
  {
   "cell_type": "code",
   "execution_count": 13,
   "metadata": {},
   "outputs": [],
   "source": [
    "# sudo pip install networkx==1.11"
   ]
  },
  {
   "cell_type": "code",
   "execution_count": 14,
   "metadata": {},
   "outputs": [
    {
     "name": "stdout",
     "output_type": "stream",
     "text": [
      "{'x': 1.0008861103692968}\n"
     ]
    }
   ],
   "source": [
    "trials = Trials()\n",
    "#Ищем минимальную \n",
    "best = fmin(\n",
    "    fn=lambda x: (x-1)**2,\n",
    "    space=hp.uniform('x', -2, 2),\n",
    "    algo=tpe.suggest,\n",
    "    max_evals=100,\n",
    "    trials=trials)\n",
    "\n",
    "print(best)"
   ]
  },
  {
   "cell_type": "code",
   "execution_count": 15,
   "metadata": {},
   "outputs": [],
   "source": [
    "def trials_df(trials):\n",
    "    '''\n",
    "    Функция форматирует результаты hyperopt в dataframe\n",
    "    '''\n",
    "    tr_dict = []\n",
    "    for t in trials:\n",
    "        trial = dict()\n",
    "        for k, v in t['misc']['vals'].items():\n",
    "            trial[k] = v[0]\n",
    "\n",
    "        trial['qscore'] = -t['result']['qscore']\n",
    "        trial['qscore_std'] = -t['result']['qscore_std']\n",
    "        tr_dict.append(trial)\n",
    "\n",
    "    df_res = pd.DataFrame.from_dict(tr_dict)\n",
    "    df_res = df_res.sort_values('qscore', ascending=False)\n",
    "    \n",
    "    return df_res"
   ]
  },
  {
   "cell_type": "code",
   "execution_count": 16,
   "metadata": {},
   "outputs": [],
   "source": [
    "def run_trials_template(X, y, params, evals=100):\n",
    "\n",
    "    def hyperopt_cv(X, y, params):\n",
    "        \n",
    "        X_ = X.copy()\n",
    "        \n",
    "        # set params\n",
    "        lm_params = {}\n",
    "        tfidf_params = {}\n",
    "        for k, v in params.items():\n",
    "            if k.startswith('glob'):\n",
    "                continue                \n",
    "            elif k.startswith('lm'):\n",
    "                lm_params[k.split('_', 1)[1]] = v\n",
    "            \n",
    "        model = LogisticRegression(**lm_params)\n",
    "\n",
    "        n_splits = 5\n",
    "        cv = StratifiedKFold(n_splits=n_splits, shuffle=True, \n",
    "                             random_state=RND_SEED)\n",
    "        scores = cross_val_score(model, X_, y,\n",
    "                                 scoring='roc_auc', \n",
    "                                 cv=cv, \n",
    "                                 n_jobs=5)\n",
    "\n",
    "        return scores.mean(), scores.std()\n",
    "\n",
    "    def f(params):\n",
    "        acc, std = hyperopt_cv(X, y, params)\n",
    "        return {'loss': -acc, 'qscore': -acc, 'qscore_std': std, 'status': STATUS_OK}\n",
    "\n",
    "    trials = Trials()\n",
    "    best = fmin(f, \n",
    "                params, \n",
    "                algo=rand.suggest, \n",
    "                max_evals=evals, \n",
    "                trials=trials, \n",
    "                verbose=0)\n",
    "    \n",
    "    return trials"
   ]
  },
  {
   "cell_type": "code",
   "execution_count": 17,
   "metadata": {},
   "outputs": [],
   "source": [
    "space4_lm = {\n",
    "    'lm_penalty': hp.choice('penalty', ['l1', 'l2']),\n",
    "    'lm_C': hp.loguniform('C', -5, 3),\n",
    "    'lm_class_weight': hp.choice('class_weight', [None, 'balanced']),\n",
    "    'lm_random_state': RND_SEED,\n",
    "}"
   ]
  },
  {
   "cell_type": "code",
   "execution_count": 18,
   "metadata": {
    "scrolled": false
   },
   "outputs": [],
   "source": [
    "trials = run_trials_template(X_train, y_train, space4_lm, evals=100)\n",
    "    \n",
    "df_trials = trials_df(trials) "
   ]
  },
  {
   "cell_type": "code",
   "execution_count": 19,
   "metadata": {},
   "outputs": [
    {
     "data": {
      "text/html": [
       "<div>\n",
       "<style scoped>\n",
       "    .dataframe tbody tr th:only-of-type {\n",
       "        vertical-align: middle;\n",
       "    }\n",
       "\n",
       "    .dataframe tbody tr th {\n",
       "        vertical-align: top;\n",
       "    }\n",
       "\n",
       "    .dataframe thead th {\n",
       "        text-align: right;\n",
       "    }\n",
       "</style>\n",
       "<table border=\"1\" class=\"dataframe\">\n",
       "  <thead>\n",
       "    <tr style=\"text-align: right;\">\n",
       "      <th></th>\n",
       "      <th>C</th>\n",
       "      <th>class_weight</th>\n",
       "      <th>penalty</th>\n",
       "      <th>qscore</th>\n",
       "      <th>qscore_std</th>\n",
       "    </tr>\n",
       "  </thead>\n",
       "  <tbody>\n",
       "    <tr>\n",
       "      <th>60</th>\n",
       "      <td>16.459816</td>\n",
       "      <td>1</td>\n",
       "      <td>0</td>\n",
       "      <td>0.676867</td>\n",
       "      <td>-0.013889</td>\n",
       "    </tr>\n",
       "    <tr>\n",
       "      <th>29</th>\n",
       "      <td>19.239813</td>\n",
       "      <td>1</td>\n",
       "      <td>0</td>\n",
       "      <td>0.676811</td>\n",
       "      <td>-0.013853</td>\n",
       "    </tr>\n",
       "    <tr>\n",
       "      <th>17</th>\n",
       "      <td>17.075401</td>\n",
       "      <td>1</td>\n",
       "      <td>0</td>\n",
       "      <td>0.676798</td>\n",
       "      <td>-0.013855</td>\n",
       "    </tr>\n",
       "    <tr>\n",
       "      <th>6</th>\n",
       "      <td>17.422635</td>\n",
       "      <td>1</td>\n",
       "      <td>0</td>\n",
       "      <td>0.676792</td>\n",
       "      <td>-0.013775</td>\n",
       "    </tr>\n",
       "    <tr>\n",
       "      <th>5</th>\n",
       "      <td>10.048480</td>\n",
       "      <td>1</td>\n",
       "      <td>0</td>\n",
       "      <td>0.676792</td>\n",
       "      <td>-0.013846</td>\n",
       "    </tr>\n",
       "    <tr>\n",
       "      <th>75</th>\n",
       "      <td>11.941575</td>\n",
       "      <td>1</td>\n",
       "      <td>0</td>\n",
       "      <td>0.676424</td>\n",
       "      <td>-0.013266</td>\n",
       "    </tr>\n",
       "    <tr>\n",
       "      <th>93</th>\n",
       "      <td>4.084092</td>\n",
       "      <td>1</td>\n",
       "      <td>0</td>\n",
       "      <td>0.676167</td>\n",
       "      <td>-0.013285</td>\n",
       "    </tr>\n",
       "    <tr>\n",
       "      <th>37</th>\n",
       "      <td>4.980557</td>\n",
       "      <td>1</td>\n",
       "      <td>0</td>\n",
       "      <td>0.676138</td>\n",
       "      <td>-0.013156</td>\n",
       "    </tr>\n",
       "    <tr>\n",
       "      <th>41</th>\n",
       "      <td>2.837270</td>\n",
       "      <td>1</td>\n",
       "      <td>0</td>\n",
       "      <td>0.675956</td>\n",
       "      <td>-0.013096</td>\n",
       "    </tr>\n",
       "    <tr>\n",
       "      <th>91</th>\n",
       "      <td>2.662123</td>\n",
       "      <td>1</td>\n",
       "      <td>0</td>\n",
       "      <td>0.675765</td>\n",
       "      <td>-0.012909</td>\n",
       "    </tr>\n",
       "  </tbody>\n",
       "</table>\n",
       "</div>"
      ],
      "text/plain": [
       "            C  class_weight  penalty    qscore  qscore_std\n",
       "60  16.459816             1        0  0.676867   -0.013889\n",
       "29  19.239813             1        0  0.676811   -0.013853\n",
       "17  17.075401             1        0  0.676798   -0.013855\n",
       "6   17.422635             1        0  0.676792   -0.013775\n",
       "5   10.048480             1        0  0.676792   -0.013846\n",
       "75  11.941575             1        0  0.676424   -0.013266\n",
       "93   4.084092             1        0  0.676167   -0.013285\n",
       "37   4.980557             1        0  0.676138   -0.013156\n",
       "41   2.837270             1        0  0.675956   -0.013096\n",
       "91   2.662123             1        0  0.675765   -0.012909"
      ]
     },
     "execution_count": 19,
     "metadata": {},
     "output_type": "execute_result"
    }
   ],
   "source": [
    "df_trials.sort_values(by='qscore', ascending=False).head(10)"
   ]
  },
  {
   "cell_type": "code",
   "execution_count": 20,
   "metadata": {},
   "outputs": [],
   "source": [
    "optimal = df_trials.sort_values(by='qscore', ascending=False).iloc[0]"
   ]
  },
  {
   "cell_type": "code",
   "execution_count": 21,
   "metadata": {},
   "outputs": [
    {
     "data": {
      "text/plain": [
       "C               16.459816\n",
       "class_weight     1.000000\n",
       "penalty          0.000000\n",
       "qscore           0.676867\n",
       "qscore_std      -0.013889\n",
       "Name: 60, dtype: float64"
      ]
     },
     "execution_count": 21,
     "metadata": {},
     "output_type": "execute_result"
    }
   ],
   "source": [
    "optimal"
   ]
  },
  {
   "cell_type": "code",
   "execution_count": 22,
   "metadata": {},
   "outputs": [
    {
     "data": {
      "image/png": "[encoded data removed]",
      "text/plain": [
       "<Figure size 432x288 with 1 Axes>"
      ]
     },
     "metadata": {},
     "output_type": "display_data"
    }
   ],
   "source": [
    "model_opt = LogisticRegression(C = optimal.C, \n",
    "                               class_weight=[None, 'balanced'][int(optimal.class_weight)], \n",
    "                               penalty=['l1', 'l2'][int(optimal.penalty)])\n",
    "model_opt.fit(X_train, y_train)\n",
    "\n",
    "plot_roc_curve(model_opt.predict_proba(X_test), y_test)"
   ]
  },
  {
   "cell_type": "code",
   "execution_count": 23,
   "metadata": {},
   "outputs": [
    {
     "data": {
      "text/plain": [
       "C               16.459816\n",
       "class_weight     1.000000\n",
       "penalty          0.000000\n",
       "qscore           0.676867\n",
       "qscore_std      -0.013889\n",
       "Name: 60, dtype: float64"
      ]
     },
     "execution_count": 23,
     "metadata": {},
     "output_type": "execute_result"
    }
   ],
   "source": [
    "df_trials.sort_values(by='qscore', ascending=False).iloc[0]"
   ]
  },
  {
   "cell_type": "code",
   "execution_count": 24,
   "metadata": {},
   "outputs": [
    {
     "data": {
      "text/plain": [
       "<matplotlib.axes._subplots.AxesSubplot at 0x200bd612828>"
      ]
     },
     "execution_count": 24,
     "metadata": {},
     "output_type": "execute_result"
    },
    {
     "data": {
      "image/png": "[encoded data removed]",
      "text/plain": [
       "<Figure size 432x288 with 1 Axes>"
      ]
     },
     "metadata": {},
     "output_type": "display_data"
    }
   ],
   "source": [
    "df_trials.plot.scatter('C', 'qscore')"
   ]
  }
 ],
 "metadata": {
  "anaconda-cloud": {},
  "kernelspec": {
   "display_name": "Python 3",
   "language": "python",
   "name": "python3"
  },
  "language_info": {
   "codemirror_mode": {
    "name": "ipython",
    "version": 3
   },
   "file_extension": ".py",
   "mimetype": "text/x-python",
   "name": "python",
   "nbconvert_exporter": "python",
   "pygments_lexer": "ipython3",
   "version": "3.6.5"
  },
  "nav_menu": {},
  "toc": {
   "colors": {
    "hover_highlight": "#DAA520",
    "navigate_num": "#000000",
    "navigate_text": "#333333",
    "running_highlight": "#FF0000",
    "selected_highlight": "#FFD700",
    "sidebar_border": "#EEEEEE",
    "wrapper_background": "#FFFFFF"
   },
   "moveMenuLeft": true,
   "nav_menu": {
    "height": "347px",
    "width": "253px"
   },
   "navigate_menu": true,
   "number_sections": false,
   "sideBar": true,
   "threshold": 4,
   "toc_cell": true,
   "toc_position": {
    "height": "222px",
    "left": "0px",
    "right": "1247.33px",
    "top": "108px",
    "width": "182px"
   },
   "toc_section_display": "block",
   "toc_window_display": true,
   "widenNotebook": false
  },
  "toc_position": {
   "height": "40px",
   "left": "816px",
   "right": "38.6667px",
   "top": "0px",
   "width": "212px"
  },
  "varInspector": {
   "cols": {
    "lenName": 16,
    "lenType": 16,
    "lenVar": 40
   },
   "kernels_config": {
    "python": {
     "delete_cmd_postfix": "",
     "delete_cmd_prefix": "del ",
     "library": "var_list.py",
     "varRefreshCmd": "print(var_dic_list())"
    },
    "r": {
     "delete_cmd_postfix": ") ",
     "delete_cmd_prefix": "rm(",
     "library": "var_list.r",
     "varRefreshCmd": "cat(var_dic_list()) "
    }
   },
   "types_to_exclude": [
    "module",
    "function",
    "builtin_function_or_method",
    "instance",
    "_Feature"
   ],
   "window_display": false
  }
 },
 "nbformat": 4,
 "nbformat_minor": 1
}
